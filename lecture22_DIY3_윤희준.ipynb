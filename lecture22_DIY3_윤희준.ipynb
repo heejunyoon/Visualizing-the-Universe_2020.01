{
  "nbformat": 4,
  "nbformat_minor": 0,
  "metadata": {
    "colab": {
      "name": "lecture22_DIY3_윤희준.ipynb",
      "provenance": [],
      "authorship_tag": "ABX9TyOtvteGkNoLjBleJmzygpGe",
      "include_colab_link": true
    },
    "kernelspec": {
      "name": "python3",
      "display_name": "Python 3"
    }
  },
  "cells": [
    {
      "cell_type": "markdown",
      "metadata": {
        "id": "view-in-github",
        "colab_type": "text"
      },
      "source": [
        "<a href=\"https://colab.research.google.com/github/heejunyoon/Visualizing-the-Universe_2020.01/blob/master/lecture22_DIY3_%EC%9C%A4%ED%9D%AC%EC%A4%80.ipynb\" target=\"_parent\"><img src=\"https://colab.research.google.com/assets/colab-badge.svg\" alt=\"Open In Colab\"/></a>"
      ]
    },
    {
      "cell_type": "markdown",
      "metadata": {
        "id": "4DXivdVOUzL6",
        "colab_type": "text"
      },
      "source": [
        "using python built-in arithmetic function to calculate.\n",
        "\n",
        "type(x) means the type of variable x, such as int, char, float.\n",
        "\n",
        "Especially, float is used for expressing the real number by using 4 bites."
      ]
    },
    {
      "cell_type": "code",
      "metadata": {
        "id": "O38GsoMa0oPm",
        "colab_type": "code",
        "outputId": "57fb8660-7a44-4331-c9a7-94964b4fe56e",
        "colab": {
          "base_uri": "https://localhost:8080/",
          "height": 53
        }
      },
      "source": [
        "x = 3.1415\n",
        "print(x)\n",
        "print(type(x))"
      ],
      "execution_count": 0,
      "outputs": [
        {
          "output_type": "stream",
          "text": [
            "3.1415\n",
            "<class 'float'>\n"
          ],
          "name": "stdout"
        }
      ]
    },
    {
      "cell_type": "markdown",
      "metadata": {
        "id": "-BLASW0WVEWo",
        "colab_type": "text"
      },
      "source": [
        "x = (x-1)**2 means that saving (x-1)^2 as a new x."
      ]
    },
    {
      "cell_type": "code",
      "metadata": {
        "id": "5dtzyD76SzOr",
        "colab_type": "code",
        "outputId": "012a49a7-1b5f-4ea6-e091-9575e8ca583b",
        "colab": {
          "base_uri": "https://localhost:8080/",
          "height": 35
        }
      },
      "source": [
        "x = (x-1) ** 2\n",
        "print(x)"
      ],
      "execution_count": 0,
      "outputs": [
        {
          "output_type": "stream",
          "text": [
            "4.586022250000001\n"
          ],
          "name": "stdout"
        }
      ]
    }
  ]
}
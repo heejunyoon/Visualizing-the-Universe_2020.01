{
  "nbformat": 4,
  "nbformat_minor": 0,
  "metadata": {
    "colab": {
      "name": "lecture22_DIY5_윤희준.ipynb",
      "provenance": [],
      "authorship_tag": "ABX9TyMQuFwKDjCHkOMEWnrJCkvV",
      "include_colab_link": true
    },
    "kernelspec": {
      "name": "python3",
      "display_name": "Python 3"
    }
  },
  "cells": [
    {
      "cell_type": "markdown",
      "metadata": {
        "id": "view-in-github",
        "colab_type": "text"
      },
      "source": [
        "<a href=\"https://colab.research.google.com/github/heejunyoon/Visualizing-the-Universe_2020.01/blob/master/lecture22_DIY5_%EC%9C%A4%ED%9D%AC%EC%A4%80.ipynb\" target=\"_parent\"><img src=\"https://colab.research.google.com/assets/colab-badge.svg\" alt=\"Open In Colab\"/></a>"
      ]
    },
    {
      "cell_type": "markdown",
      "metadata": {
        "id": "VBpjFbO3eMXl",
        "colab_type": "text"
      },
      "source": [
        "count the number of charaters in each word (including space) in the list\n",
        "\n",
        "In the list that is named <myexamples>, save the words 'black hole', 'light', 'Hubble constant', 'multimessanger'. (4 words in this case)\n",
        "\n",
        "To be specific,\n",
        "for index 0 of the list<myexamples>, black hole is saved.\n",
        "\n",
        "In sequence, for index 1, light / \n",
        "\n",
        "index 2, Hubble constant / \n",
        "\n",
        "index 3, multimessanger  is saved each."
      ]
    },
    {
      "cell_type": "code",
      "metadata": {
        "id": "zCpQVe6x0wU7",
        "colab_type": "code",
        "colab": {}
      },
      "source": [
        "myexamples = ['black hole', 'light', 'Hubble constant', 'multimessanger']"
      ],
      "execution_count": 0,
      "outputs": []
    },
    {
      "cell_type": "markdown",
      "metadata": {
        "id": "gXwEvqDhf2P0",
        "colab_type": "text"
      },
      "source": [
        "By using built-in function for loop, print integer 0 to 5 respectively."
      ]
    },
    {
      "cell_type": "code",
      "metadata": {
        "id": "Pe0HGlsPf2r5",
        "colab_type": "code",
        "outputId": "5c6342ba-9c4b-455b-b851-4bf7a4ddfa56",
        "colab": {
          "base_uri": "https://localhost:8080/",
          "height": 107
        }
      },
      "source": [
        "for x in range(5):\n",
        "  print(x)"
      ],
      "execution_count": 0,
      "outputs": [
        {
          "output_type": "stream",
          "text": [
            "0\n",
            "1\n",
            "2\n",
            "3\n",
            "4\n"
          ],
          "name": "stdout"
        }
      ]
    },
    {
      "cell_type": "markdown",
      "metadata": {
        "id": "Gef6VsA6f3Dj",
        "colab_type": "text"
      },
      "source": [
        "I saved each word at each index of the list<myexamples>.\n",
        "\n",
        "Using for loop and built-in function len(x), print each word and number of word's characters."
      ]
    },
    {
      "cell_type": "code",
      "metadata": {
        "id": "HSHuKDTFf3WE",
        "colab_type": "code",
        "outputId": "d10c9488-50f2-4c8c-f0db-3d0120ecc02a",
        "colab": {
          "base_uri": "https://localhost:8080/",
          "height": 89
        }
      },
      "source": [
        "for x in myexamples :\n",
        "  x, print(x, len(x))"
      ],
      "execution_count": 0,
      "outputs": [
        {
          "output_type": "stream",
          "text": [
            "black hole 10\n",
            "light 5\n",
            "Hubble constant 15\n",
            "multimessanger 14\n"
          ],
          "name": "stdout"
        }
      ]
    }
  ]
}
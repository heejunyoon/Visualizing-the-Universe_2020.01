{
  "nbformat": 4,
  "nbformat_minor": 0,
  "metadata": {
    "colab": {
      "name": "lecture22_DIY4_윤희준.ipynb",
      "provenance": [],
      "authorship_tag": "ABX9TyOIv2d+OG+JLCo847F8AFrl",
      "include_colab_link": true
    },
    "kernelspec": {
      "name": "python3",
      "display_name": "Python 3"
    }
  },
  "cells": [
    {
      "cell_type": "markdown",
      "metadata": {
        "id": "view-in-github",
        "colab_type": "text"
      },
      "source": [
        "<a href=\"https://colab.research.google.com/github/heejunyoon/Visualizing-the-Universe_2020.01/blob/master/lecture22_DIY4_%EC%9C%A4%ED%9D%AC%EC%A4%80.ipynb\" target=\"_parent\"><img src=\"https://colab.research.google.com/assets/colab-badge.svg\" alt=\"Open In Colab\"/></a>"
      ]
    },
    {
      "cell_type": "markdown",
      "metadata": {
        "id": "gwx8sQjMWcJS",
        "colab_type": "text"
      },
      "source": [
        "After printing \"Please enter an integer : \", system will require user to input integer.\n",
        "\n",
        "The input that user made will be saved as integer x."
      ]
    },
    {
      "cell_type": "code",
      "metadata": {
        "id": "lb4ZfpQS0sUp",
        "colab_type": "code",
        "outputId": "a9e774ff-85fa-4e05-ce8f-6fd098d3aa13",
        "colab": {
          "base_uri": "https://localhost:8080/"
        }
      },
      "source": [
        "x = int(input(\"Please enter an integer : \"))"
      ],
      "execution_count": 0,
      "outputs": [
        {
          "output_type": "stream",
          "text": [
            "Please enter an integer : -1\n"
          ],
          "name": "stdout"
        }
      ]
    },
    {
      "cell_type": "markdown",
      "metadata": {
        "id": "aAF2TU1yWtGa",
        "colab_type": "text"
      },
      "source": [
        "By using function \"if\", depend on the condition that I want, I can differentiate the outcome.\n",
        "\n",
        "If the input x is negative number, than plus 2.2 to the input x and print that with word\"apple\".\n",
        "\n",
        "Especially, I found the error that is occured by floating point, \n",
        "\n",
        "so I use round function to express the exact number.\n",
        "\n",
        "(※단순 x를 print 했을 때 부동소수점 오차 발생으로 인해 \n",
        "\n",
        "출력값이 1.2 가 아니라 1.2000000000000002 가 출력되는 것 같습니다.\n",
        "\n",
        "(추가적으로 PyCharm을 이용하여 코드를 실행해 보았으나, 동일 결과값이 출력됩니다.) \n",
        "\n",
        "\n",
        "따라서, 빌트인함수인 round를 이용해 소수점 첫째자리까지 출력하도록 print함수를 입력하였습니다.)"
      ]
    },
    {
      "cell_type": "markdown",
      "metadata": {
        "id": "Kesv5nzDZIFr",
        "colab_type": "text"
      },
      "source": [
        "If the input x is not negative number and 0 or 1,\n",
        "\n",
        "print \"banana\" and \"melon\" with x respectively."
      ]
    },
    {
      "cell_type": "code",
      "metadata": {
        "id": "tvQDAVJzTiYY",
        "colab_type": "code",
        "outputId": "6d0ff4aa-795c-4b22-ed66-b131af9a0fe9",
        "colab": {
          "base_uri": "https://localhost:8080/"
        }
      },
      "source": [
        "if x < 0 :\n",
        "    x = x + 2.2\n",
        "    print('apple'), print(round(x,1))\n",
        "\n",
        "elif x == 0:\n",
        "    print ('banana'), print(x)\n",
        "elif x == 1:\n",
        "    print('melon'), print(x)"
      ],
      "execution_count": 0,
      "outputs": [
        {
          "output_type": "stream",
          "text": [
            "apple\n",
            "1.2\n"
          ],
          "name": "stdout"
        }
      ]
    }
  ]
}
{
  "nbformat": 4,
  "nbformat_minor": 0,
  "metadata": {
    "colab": {
      "name": "lecture22_DIY2_윤희준.ipynb",
      "provenance": [],
      "collapsed_sections": [],
      "authorship_tag": "ABX9TyORErERY2JMzPid1ATe00Nj",
      "include_colab_link": true
    },
    "kernelspec": {
      "name": "python3",
      "display_name": "Python 3"
    }
  },
  "cells": [
    {
      "cell_type": "markdown",
      "metadata": {
        "id": "view-in-github",
        "colab_type": "text"
      },
      "source": [
        "<a href=\"https://colab.research.google.com/github/heejunyoon/Visualizing-the-Universe_2020.01/blob/master/lecture22_DIY2_%EC%9C%A4%ED%9D%AC%EC%A4%80.ipynb\" target=\"_parent\"><img src=\"https://colab.research.google.com/assets/colab-badge.svg\" alt=\"Open In Colab\"/></a>"
      ]
    },
    {
      "cell_type": "markdown",
      "metadata": {
        "id": "jurw47TP06e2",
        "colab_type": "text"
      },
      "source": [
        "##1year to seconds unit conversion  \n",
        "   - unit conversion (yr to sec) : 1year = 365 days * 24 hrs * 60 mins * 60 sec\n",
        "   - using python built-in arithmetic function."
      ]
    },
    {
      "cell_type": "code",
      "metadata": {
        "id": "t8KyLKtB0FQz",
        "colab_type": "code",
        "outputId": "7845659f-9a0c-47fc-cc09-ff42de639f16",
        "colab": {
          "base_uri": "https://localhost:8080/",
          "height": 35
        }
      },
      "source": [
        "year_to_sec = 365*24*60*60\n",
        "print(\"1 year is \", year_to_sec, \"seconds.\")"
      ],
      "execution_count": 0,
      "outputs": [
        {
          "output_type": "stream",
          "text": [
            "1 year is  31536000 seconds.\n"
          ],
          "name": "stdout"
        }
      ]
    },
    {
      "cell_type": "markdown",
      "metadata": {
        "id": "oSR5PWd55lPJ",
        "colab_type": "text"
      },
      "source": [
        "##Calculating Age of Universe by Hubble constant\n",
        "  - Hubble constant H = 500km/s/Mpc (1/H is age of the universe.)\n",
        "  - 1 Mpc = 3*10^22 m \n",
        "  -1year = 365 days * 24 hrs * 60 mins * 60 sec \n",
        "  -For expressing 10^22, 10^5, I use built-in fuction power(x,y)=x^y"
      ]
    },
    {
      "cell_type": "code",
      "metadata": {
        "id": "x3pZZRxr5VOH",
        "colab_type": "code",
        "outputId": "07c4df93-32a3-47b2-ac7d-eecb1b71a379",
        "colab": {
          "base_uri": "https://localhost:8080/",
          "height": 35
        }
      },
      "source": [
        "age_of_universe = (3*pow(10,22) / (5*pow(10,5))) / year_to_sec / pow(10,10)\n",
        "print(\"The age of Universe calculated by Hubble constant is \", age_of_universe, \"*10^10 years.\")"
      ],
      "execution_count": 0,
      "outputs": [
        {
          "output_type": "stream",
          "text": [
            "The age of Universe calculated by Hubble constant is  0.1902587519025875 *10^10 years.\n"
          ],
          "name": "stdout"
        }
      ]
    }
  ]
}